{
 "cells": [
  {
   "cell_type": "markdown",
   "id": "3c405748",
   "metadata": {},
   "source": [
    "## Label Articles as 'Fact' or 'Opinion'"
   ]
  },
  {
   "cell_type": "code",
   "execution_count": null,
   "id": "7e46f118",
   "metadata": {},
   "outputs": [],
   "source": [
    "import pandas as pd\n",
    "import numpy as np\n",
    "import os\n",
    "import json\n",
    "from datetime import datetime, timedelta\n",
    "\n",
    "import requests\n",
    "import re\n",
    "import openai\n",
    "from google.cloud import bigquery\n",
    "from bs4 import BeautifulSoup\n",
    "from newspaper import Article, Config, ArticleException\n",
    "\n",
    "from langchain.llms import OpenAI\n",
    "from langchain.chains import LLMChain\n",
    "from langchain.prompts import PromptTemplate\n",
    "from langchain.chains import SimpleSequentialChain\n",
    "\n",
    "from apikey import apikey_news_source\n",
    "from apikey import apikey_openai\n"
   ]
  },
  {
   "cell_type": "code",
   "execution_count": null,
   "id": "cff84dce",
   "metadata": {},
   "outputs": [],
   "source": [
    "all_articles_df = pd.read_csv(r'C:\\Users\\samir\\OneDrive\\Desktop\\News Stock Relevance Project\\all_articles.csv')"
   ]
  },
  {
   "cell_type": "code",
   "execution_count": null,
   "id": "8c7c0aba",
   "metadata": {},
   "outputs": [],
   "source": [
    "all_articles_df = all_articles_df.dropna(subset=['Description', 'Content'])"
   ]
  },
  {
   "cell_type": "code",
   "execution_count": null,
   "id": "d6fa24b9",
   "metadata": {},
   "outputs": [],
   "source": [
    "max_prompt_length = 4097"
   ]
  },
  {
   "cell_type": "code",
   "execution_count": null,
   "id": "ace19737",
   "metadata": {},
   "outputs": [],
   "source": [
    "all_articles_df = all_articles_df.head(10).reset_index(drop=True)  # REMOVE IN PRODUCTION"
   ]
  },
  {
   "cell_type": "code",
   "execution_count": null,
   "id": "ae03b0a8",
   "metadata": {
    "scrolled": true
   },
   "outputs": [],
   "source": [
    "# Define the headers you want to use\n",
    "user_agent = 'Mozilla/5.0 (Windows NT 10.0; Win64; x64) AppleWebKit/537.36 (KHTML, like Gecko) Chrome/58.0.3029.110 Safari/537.3'\n",
    "\n",
    "# Create a configuration object\n",
    "config = Config()\n",
    "config.browser_user_agent = user_agent\n",
    "config.request_timeout = 15 \n",
    "\n",
    "# Set up OpenAI API credentials\n",
    "openai.api_key = apikey_openai\n",
    "\n",
    "# Iterate through each article\n",
    "for index, row in all_articles_df.iterrows():\n",
    "    print(index)\n",
    "    link = row['URL']\n",
    "\n",
    "    # Use Newspaper3k to parse the article\n",
    "    article = Article(link, config=config)\n",
    "    try:\n",
    "        article.download()\n",
    "        article.parse()\n",
    "        full_content = article.text\n",
    "        prompt_content = f\"Title: {row['Title']}  Description: {row['Description']}  Full Content: {full_content}\"\n",
    "        \n",
    "        # Prompt 2: Classify the article based on its full contents\n",
    "        prompt = f\"Do not mention any other details, please classify full contents of this article as only 'Fact' or 'Opinion':\\n\\n{prompt_content}\"\n",
    "        \n",
    "        \n",
    "        # Make API request to OpenAI API for classification\n",
    "        response = openai.Completion.create(\n",
    "        engine='text-davinci-003',\n",
    "        prompt=prompt[:max_prompt_length],\n",
    "        max_tokens=800,  #Adjust as needed\n",
    "        temperature=0,  # Adjust as needed\n",
    "        n=1  # Adjust as needed\n",
    "        )\n",
    "        \n",
    "        classification = response.choices[0].text.strip().lower()\n",
    "        all_articles_df.loc[index, 'Full Content'] = prompt_content\n",
    "        all_articles_df.loc[index, 'Classification'] = classification\n",
    "        \n",
    "    except ArticleException as e:\n",
    "        print(f\"Skipping article at {link} due to error: {str(e)}\")\n"
   ]
  },
  {
   "cell_type": "code",
   "execution_count": null,
   "id": "d7cec348",
   "metadata": {},
   "outputs": [],
   "source": [
    "for i, row in all_articles_df.iterrows():\n",
    "    text = re.sub(r'\\W+', ' ', row['Classification'])\n",
    "    words = text.split()  # Split the text into words\n",
    "    if 'Fact' in words or 'fact' in words :\n",
    "        all_articles_df.at[i,'Classification'] = \"Fact\"\n",
    "    elif 'Opinion' in words or 'opinion' in words :\n",
    "        all_articles_df.at[i, 'Classification'] = \"Opinion\""
   ]
  },
  {
   "cell_type": "code",
   "execution_count": null,
   "id": "f17e534c",
   "metadata": {},
   "outputs": [],
   "source": [
    "all_articles_df"
   ]
  },
  {
   "cell_type": "code",
   "execution_count": null,
   "id": "affc084d",
   "metadata": {},
   "outputs": [],
   "source": [
    "all_articles_df.to_csv(\"articles.csv\", index=False)"
   ]
  },
  {
   "cell_type": "code",
   "execution_count": null,
   "id": "02c2b69f",
   "metadata": {},
   "outputs": [],
   "source": []
  }
 ],
 "metadata": {
  "kernelspec": {
   "display_name": "newspulse",
   "language": "python",
   "name": "newspulse"
  },
  "language_info": {
   "codemirror_mode": {
    "name": "ipython",
    "version": 3
   },
   "file_extension": ".py",
   "mimetype": "text/x-python",
   "name": "python",
   "nbconvert_exporter": "python",
   "pygments_lexer": "ipython3",
   "version": "3.10.9"
  }
 },
 "nbformat": 4,
 "nbformat_minor": 5
}
