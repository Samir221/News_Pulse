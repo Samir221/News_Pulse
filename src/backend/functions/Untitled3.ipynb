{
 "cells": [
  {
   "cell_type": "code",
   "execution_count": 2,
   "id": "6897c654",
   "metadata": {},
   "outputs": [
    {
     "name": "stdout",
     "output_type": "stream",
     "text": [
      "'Je ne sais pas.'\n"
     ]
    }
   ],
   "source": [
    "import openai\n",
    "from apikey import apikey_openai\n",
    "\n",
    "# Load your API key from an environment variable or secret management service\n",
    "openai.api_key = apikey_openai\n",
    "\n",
    "# Test the connection using a simple completion task\n",
    "try:\n",
    "    response = openai.Completion.create(\n",
    "      engine=\"text-davinci-003\",\n",
    "      prompt=\"Translate the following English text to French: '{}'\",\n",
    "      max_tokens=60\n",
    "    )\n",
    "\n",
    "    print(response.choices[0].text.strip())\n",
    "except Exception as e:\n",
    "    print(f\"An error occurred: {e}\")\n"
   ]
  },
  {
   "cell_type": "code",
   "execution_count": null,
   "id": "2c22468c",
   "metadata": {},
   "outputs": [],
   "source": []
  }
 ],
 "metadata": {
  "kernelspec": {
   "display_name": "Python 3 (ipykernel)",
   "language": "python",
   "name": "python3"
  },
  "language_info": {
   "codemirror_mode": {
    "name": "ipython",
    "version": 3
   },
   "file_extension": ".py",
   "mimetype": "text/x-python",
   "name": "python",
   "nbconvert_exporter": "python",
   "pygments_lexer": "ipython3",
   "version": "3.10.9"
  }
 },
 "nbformat": 4,
 "nbformat_minor": 5
}
