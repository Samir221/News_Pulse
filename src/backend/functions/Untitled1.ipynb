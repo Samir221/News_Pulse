{
 "cells": [
  {
   "cell_type": "markdown",
   "id": "12566d6f",
   "metadata": {},
   "source": [
    "## Langchain Sequential Chain Test"
   ]
  },
  {
   "cell_type": "code",
   "execution_count": 6,
   "id": "d546e8f7",
   "metadata": {},
   "outputs": [],
   "source": [
    "import pandas as pd\n",
    "import os\n",
    "import json\n",
    "\n",
    "import requests\n",
    "import re\n",
    "import openai\n",
    "\n",
    "from langchain.llms import OpenAI\n",
    "from langchain.chains import LLMChain\n",
    "from langchain.prompts import PromptTemplate\n",
    "from langchain.chains import SimpleSequentialChain\n",
    "\n",
    "from apikey import apikey_news_source\n",
    "from apikey import apikey_openai"
   ]
  },
  {
   "cell_type": "code",
   "execution_count": 7,
   "id": "63a89653",
   "metadata": {},
   "outputs": [],
   "source": [
    "llm = OpenAI(temperature=1, openai_api_key=apikey_openai)"
   ]
  },
  {
   "cell_type": "code",
   "execution_count": 9,
   "id": "cca60466",
   "metadata": {},
   "outputs": [
    {
     "ename": "NameError",
     "evalue": "name 'unique_micro_sectors' is not defined",
     "output_type": "error",
     "traceback": [
      "\u001b[1;31m---------------------------------------------------------------------------\u001b[0m",
      "\u001b[1;31mNameError\u001b[0m                                 Traceback (most recent call last)",
      "Cell \u001b[1;32mIn[9], line 5\u001b[0m\n\u001b[0;32m      2\u001b[0m articles_df \u001b[38;5;241m=\u001b[39m pd\u001b[38;5;241m.\u001b[39mDataFrame(columns\u001b[38;5;241m=\u001b[39m[\u001b[38;5;124m'\u001b[39m\u001b[38;5;124mMicro-Sector\u001b[39m\u001b[38;5;124m'\u001b[39m, \u001b[38;5;124m'\u001b[39m\u001b[38;5;124mSource\u001b[39m\u001b[38;5;124m'\u001b[39m, \u001b[38;5;124m'\u001b[39m\u001b[38;5;124mAuthor\u001b[39m\u001b[38;5;124m'\u001b[39m, \u001b[38;5;124m'\u001b[39m\u001b[38;5;124mTitle\u001b[39m\u001b[38;5;124m'\u001b[39m, \u001b[38;5;124m'\u001b[39m\u001b[38;5;124mDescription\u001b[39m\u001b[38;5;124m'\u001b[39m, \u001b[38;5;124m'\u001b[39m\u001b[38;5;124mURL\u001b[39m\u001b[38;5;124m'\u001b[39m, \u001b[38;5;124m'\u001b[39m\u001b[38;5;124mPublished At\u001b[39m\u001b[38;5;124m'\u001b[39m, \u001b[38;5;124m'\u001b[39m\u001b[38;5;124mContent\u001b[39m\u001b[38;5;124m'\u001b[39m])\n\u001b[0;32m      4\u001b[0m \u001b[38;5;66;03m# Iterate over unique micro-sectors\u001b[39;00m\n\u001b[1;32m----> 5\u001b[0m \u001b[38;5;28;01mfor\u001b[39;00m sector \u001b[38;5;129;01min\u001b[39;00m \u001b[43munique_micro_sectors\u001b[49m:\n\u001b[0;32m      6\u001b[0m     \u001b[38;5;66;03m# Format the API URL for the specific micro-sector\u001b[39;00m\n\u001b[0;32m      7\u001b[0m     \u001b[38;5;66;03m#api_url = f\"https://newsapi.org/v2/everything?q={sector}&apiKey={apikey_news_source}\"\u001b[39;00m\n\u001b[0;32m      8\u001b[0m     api_url \u001b[38;5;241m=\u001b[39m \u001b[38;5;124mf\u001b[39m\u001b[38;5;124m\"\u001b[39m\u001b[38;5;124mhttps://newsapi.org/v2/everything?q=\u001b[39m\u001b[38;5;132;01m{\u001b[39;00msector\u001b[38;5;132;01m}\u001b[39;00m\u001b[38;5;124m&from=2023-06-02&to=2023-05-18&apiKey=\u001b[39m\u001b[38;5;132;01m{\u001b[39;00mapikey_news_source\u001b[38;5;132;01m}\u001b[39;00m\u001b[38;5;124m\"\u001b[39m\n\u001b[0;32m     10\u001b[0m     \u001b[38;5;66;03m# Make the API request\u001b[39;00m\n",
      "\u001b[1;31mNameError\u001b[0m: name 'unique_micro_sectors' is not defined"
     ]
    }
   ],
   "source": [
    "# Create an empty DataFrame to store the news articles\n",
    "articles_df = pd.DataFrame(columns=['Micro-Sector', 'Source', 'Author', 'Title', 'Description', 'URL', 'Published At', 'Content'])\n",
    "\n",
    "# Iterate over unique micro-sectors\n",
    "for sector in unique_micro_sectors:\n",
    "    # Format the API URL for the specific micro-sector\n",
    "    #api_url = f\"https://newsapi.org/v2/everything?q={sector}&apiKey={apikey_news_source}\"\n",
    "    api_url = f\"https://newsapi.org/v2/everything?q={sector}&from=2023-06-02&to=2023-05-18&apiKey={apikey_news_source}\"\n",
    "    \n",
    "    # Make the API request\n",
    "    response = requests.get(api_url)\n",
    "    \n",
    "    # Process the response and extract relevant information\n",
    "    articles = response.json().get('articles')\n",
    "    \n",
    "'''    \n",
    "    if articles:\n",
    "        # Extract article information and add micro-sector column\n",
    "        articles_data = [(sector, article.get('source').get('name'), article.get('author'), \n",
    "                          article.get('title'), article.get('description'), \n",
    "                          article.get('url'), article.get('publishedAt'), article.get('content'))  for article in articles]\n",
    "        \n",
    "        # Convert the list of articles to a DataFrame\n",
    "        articles_sector_df = pd.DataFrame(articles_data, columns=['Micro-Sector', 'Source', 'Author', 'Title',\n",
    "                                                                   'Description', 'URL', 'Published At', 'Content'])\n",
    "        \n",
    "        # Append the articles for the current micro-sector to the main DataFrame\n",
    "        articles_df = pd.concat([articles_df, articles_sector_df], ignore_index=True)\n",
    "'''"
   ]
  },
  {
   "cell_type": "code",
   "execution_count": null,
   "id": "37da660c",
   "metadata": {},
   "outputs": [],
   "source": [
    "template = \"\"\"Your job is to come up with a classic dish from the area that the users suggests.\n",
    "% USER LOCATION\n",
    "{user_location}\n",
    "\n",
    "YOUR RESPONSE:\n",
    "\"\"\"\n",
    "prompt_template = PromptTemplate(input_variables=[\"user_location\"], template=template)\n",
    "\n",
    "# Holds my 'location' chain\n",
    "location_chain = LLMChain(llm=llm, prompt=prompt_template)"
   ]
  }
 ],
 "metadata": {
  "kernelspec": {
   "display_name": "Python 3 (ipykernel)",
   "language": "python",
   "name": "python3"
  },
  "language_info": {
   "codemirror_mode": {
    "name": "ipython",
    "version": 3
   },
   "file_extension": ".py",
   "mimetype": "text/x-python",
   "name": "python",
   "nbconvert_exporter": "python",
   "pygments_lexer": "ipython3",
   "version": "3.10.9"
  }
 },
 "nbformat": 4,
 "nbformat_minor": 5
}
